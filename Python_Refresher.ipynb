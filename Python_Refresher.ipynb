{
  "nbformat": 4,
  "nbformat_minor": 0,
  "metadata": {
    "colab": {
      "provenance": []
    },
    "kernelspec": {
      "name": "python3",
      "display_name": "Python 3"
    },
    "language_info": {
      "name": "python"
    }
  },
  "cells": [
    {
      "cell_type": "markdown",
      "source": [
        "### Type Casting\n",
        "- Convert user_input variable into integer and print the value and type\n",
        "- Convert sales amount to string and print this message `Total Sales : $1250.75`\n",
        "- Write a Python program that takes the string '123$', remove the dollar sign, and convert the remaining value to an integer\n",
        "\n",
        "- Given the tracking number 'JOR-2023-5678', write a Python program that uses string slicing to extract the shipment year and the unique ID, then print them."
      ],
      "metadata": {
        "id": "I4yf-k6aaFVg"
      }
    },
    {
      "cell_type": "code",
      "source": [
        "user_input = \"123.45\"\n",
        "sales_amount = 1250.75\n",
        "price = '123$'\n",
        "tracking_number = \"JOR-2023-5678\""
      ],
      "metadata": {
        "id": "uMQ4t52KaFrN"
      },
      "execution_count": null,
      "outputs": []
    },
    {
      "cell_type": "code",
      "source": [
        "#Convert user_input variable into integer and print the value and type\n",
        "user_input = input('Enter a number: ')\n",
        "int_user_input = int(float(user_input))\n",
        "print(int_user_input, type(int_user_input))"
      ],
      "metadata": {
        "colab": {
          "base_uri": "https://localhost:8080/"
        },
        "id": "V-Jp_s7mOPT3",
        "outputId": "4d469c28-d2a5-493b-9be0-51e00165f9be"
      },
      "execution_count": 8,
      "outputs": [
        {
          "output_type": "stream",
          "name": "stdout",
          "text": [
            "Enter a number: 123.45\n",
            "123 <class 'int'>\n"
          ]
        }
      ]
    },
    {
      "cell_type": "code",
      "source": [
        "#Convert sales amount to string and print this message Total Sales : $1250.75\n",
        "sales_amount = input('enter sales amount ')\n",
        "str_sales_amount = str(sales_amount)\n",
        "print(f\"Total Sales :{str_sales_amount}\")"
      ],
      "metadata": {
        "colab": {
          "base_uri": "https://localhost:8080/"
        },
        "id": "q69-frOqOjSg",
        "outputId": "aad863c2-245c-4dc2-c0aa-a013fe78d158"
      },
      "execution_count": 10,
      "outputs": [
        {
          "output_type": "stream",
          "name": "stdout",
          "text": [
            "enter sales amount $1250.75\n",
            "Total Sales :$1250.75\n"
          ]
        }
      ]
    },
    {
      "cell_type": "code",
      "source": [
        "#Write a Python program that takes the string '123$', remove the dollar sign, and convert the remaining value to an integer\n",
        "from os import replace\n",
        "num = input(\"Enter a number: \")\n",
        "num = num.replace(\"$\", \"\")\n",
        "int_num = int(num)\n",
        "print (int_num)"
      ],
      "metadata": {
        "colab": {
          "base_uri": "https://localhost:8080/"
        },
        "id": "JdCtMkPfPX5E",
        "outputId": "3d30782c-8e14-4414-8d94-7930c41ef167"
      },
      "execution_count": 14,
      "outputs": [
        {
          "output_type": "stream",
          "name": "stdout",
          "text": [
            "Enter a number: 123$\n",
            "123\n"
          ]
        }
      ]
    },
    {
      "cell_type": "code",
      "source": [
        "#Given the tracking number 'JOR-2023-5678', write a Python program that uses string slicing to extract the shipment year and the unique ID, then print them.\n",
        "tracking_number = input(\"Enter a tracking number: \")\n",
        "tracking_number = tracking_number.split(\"-\")\n",
        "print(f\"shipment year: {tracking_number[1]}  the unique ID :{tracking_number[2]}\" )\n"
      ],
      "metadata": {
        "colab": {
          "base_uri": "https://localhost:8080/"
        },
        "id": "4Ji0x04jQ3z3",
        "outputId": "d0269152-438f-458c-927b-7a37a1eb6be6"
      },
      "execution_count": 18,
      "outputs": [
        {
          "output_type": "stream",
          "name": "stdout",
          "text": [
            "Enter a tracking number: JOR-2023-5678\n",
            "shipment year: 2023  the unique ID :5678\n"
          ]
        }
      ]
    },
    {
      "cell_type": "markdown",
      "source": [
        "###  Arithmetic Operators\n",
        "Calculate these metrics :\n",
        "1. **unprocessed records** : how many records are still left to process?\n",
        "2. **completion rate (%)** : what percentage of the total file has been processed?\n",
        "3. **file size in GB** : convert the file size from megabytes to gigabytes (1024 MB is 1 GB)\n",
        "4. **number of full batches**: how many complete batches can you form from the total records, where each batch must be **exactly the full size?**"
      ],
      "metadata": {
        "id": "RNMUKK9KcoMG"
      }
    },
    {
      "cell_type": "code",
      "source": [
        "record_count = 25750       # Total number of records in the file\n",
        "batch_size = 500           # Each batch can process this many records\n",
        "processed_records = 750    # Number of records already processed\n",
        "file_size_mb = 2048        # File size in megabytes"
      ],
      "metadata": {
        "id": "Q0ZhxZuGa336"
      },
      "execution_count": 20,
      "outputs": []
    },
    {
      "cell_type": "code",
      "source": [
        "#1. unprocessed records\n",
        "unprocessed_records =  record_count - processed_records\n",
        "print(\"Unprocessed Records:\", unprocessed_records)\n",
        "\n",
        "\n",
        "# 2. Completion Rate (%)\n",
        "completion_rate = (processed_records /record_count ) * 100\n",
        "completion_rate = round(completion_rate, 2)\n",
        "print(\"Completion Rate:\" , completion_rate , \"%\")\n",
        "\n",
        "# 3. File Size in GB\n",
        "file_size_gb = file_size_mb / 1024\n",
        "print(f\"File Size in GB: {file_size_gb}\")\n",
        "\n",
        "# 4. Number of Complete Batches\n",
        "complete_batches = record_count//batch_size\n",
        "print(\"Number of Complete Batches:\", complete_batches)"
      ],
      "metadata": {
        "id": "oo8EwVQSgUXc",
        "colab": {
          "base_uri": "https://localhost:8080/"
        },
        "outputId": "8ade9b29-8ea2-45d5-b8d1-4e52cfa7d827"
      },
      "execution_count": 24,
      "outputs": [
        {
          "output_type": "stream",
          "name": "stdout",
          "text": [
            "Unprocessed Records: 25000\n",
            "Completion Rate: 2.91 %\n",
            "File Size in GB: 2.0\n",
            "Number of Complete Batches: 51\n"
          ]
        }
      ]
    },
    {
      "cell_type": "markdown",
      "source": [
        "### Comparison Operators\n",
        "Write boolean expressions to check if:\n",
        "1. Check if there is enough data to process\n",
        "  - 💡 does the actual number of rows meet or exceed the minimum required?\n",
        "2. Check if the error rate is acceptable\n",
        "  - 💡 is the current error rate within the allowed maximum?\n",
        "3. Check if processing finished within the time limit\n",
        "  - 💡 compare the processing time against the maximum allowed\n",
        "4. Check if all of the above conditions are true\n",
        "  - 💡use the and operator to combine multiple Boolean expressions"
      ],
      "metadata": {
        "id": "fdYk9xTagcaN"
      }
    },
    {
      "cell_type": "code",
      "source": [
        "min_required_rows = 1000\n",
        "actual_rows = 1250\n",
        "max_error_rate = 0.05\n",
        "current_error_rate = 0.03\n",
        "processing_time = 120\n",
        "max_time_allowed = 300"
      ],
      "metadata": {
        "id": "fSHpJ9Ffi4dU"
      },
      "execution_count": 25,
      "outputs": []
    },
    {
      "cell_type": "code",
      "source": [
        "# 1. Enough data?\n",
        "has_enough_data = actual_rows >= min_required_rows\n",
        "print(\"Enough data to process:\", has_enough_data)\n",
        "# 2. Error rate acceptable?\n",
        "error_rate_ok = current_error_rate <= max_error_rate\n",
        "print(\"Error rate acceptable:\", error_rate_ok)\n",
        "# 3. Finished in time?\n",
        "finished_in_time = processing_time <= max_time_allowed\n",
        "print(\"Finished within time limit:\", finished_in_time)\n",
        "# 4. All conditions met?\n",
        "all_conditions_met = has_enough_data and error_rate_ok and finished_in_time\n",
        "print(\"All conditions met:\", all_conditions_met)"
      ],
      "metadata": {
        "colab": {
          "base_uri": "https://localhost:8080/"
        },
        "id": "BjfXhCmkiMJV",
        "outputId": "95b5a79a-2514-4d12-a582-779a7f72350e"
      },
      "execution_count": 29,
      "outputs": [
        {
          "output_type": "stream",
          "name": "stdout",
          "text": [
            "Enough data to process: True\n",
            "Error rate acceptable: True\n",
            "Finished within time limit: True\n",
            "All conditions met: True\n"
          ]
        }
      ]
    },
    {
      "cell_type": "markdown",
      "source": [
        "### String manipulations"
      ],
      "metadata": {
        "id": "c98SRPCepJcv"
      }
    },
    {
      "cell_type": "code",
      "source": [
        "messy_data = \"    DaTa ANALYTICS @ sitech  \"\n",
        "\n",
        "## 1. remove extra spaces at the beginning and end of the string\n",
        "messy_data_1 = messy_data.strip()\n",
        "\n",
        "## 2. replace the @ symbol with the word \"at\"\n",
        "messy_data_2 = messy_data_1.replace(\"@\", \"at\")\n",
        "\n",
        "## 3. change the string so that each word starts with an uppercase letter\n",
        "messy_data_3 = messy_data_2.title()\n",
        "\n",
        "print(messy_data_3)\n",
        "\n",
        "## Expected output : Data Analytics At Sitech"
      ],
      "metadata": {
        "colab": {
          "base_uri": "https://localhost:8080/"
        },
        "id": "hQdaxvS5pXP3",
        "outputId": "7765c828-515f-4c2f-ce75-6b9748d1c1dc"
      },
      "execution_count": 1,
      "outputs": [
        {
          "output_type": "stream",
          "name": "stdout",
          "text": [
            "Data Analytics At Sitech\n"
          ]
        }
      ]
    },
    {
      "cell_type": "markdown",
      "source": [
        "### Lists - Sequential Data"
      ],
      "metadata": {
        "id": "6NlxmDYCt6rK"
      }
    },
    {
      "cell_type": "code",
      "source": [
        "customer_ids = [1001, 1002, 1003, 1004]\n",
        "\n",
        "# 1. print the number of customer ids in above list\n",
        "print(\"Total customers\", len(customer_ids) )\n",
        "\n",
        "# 2. Adding new customer 1005 to above list\n",
        "customer_ids.append(1005)\n",
        "\n",
        "# 3. add multiple new customer IDs [1006, 1007] at once to the existing list\n",
        "customer_ids.extend([1006 , 1007 ])\n",
        "print( customer_ids )\n",
        "\n",
        "## Accessing data\n",
        "# 1. first customer\n",
        "print(f\"First customer: {customer_ids[0]}\")\n",
        "\n",
        "# 2. last_customer\n",
        "print(f\"Last customer: {customer_ids[-1]}\")\n",
        "\n",
        "# last 3 customers\n",
        "print(f\"Last 3 customers: {customer_ids[-3:]}\")"
      ],
      "metadata": {
        "id": "PE0kuentt7DQ",
        "colab": {
          "base_uri": "https://localhost:8080/"
        },
        "outputId": "32ae1840-2877-40b2-eed9-04721b553640"
      },
      "execution_count": 43,
      "outputs": [
        {
          "output_type": "stream",
          "name": "stdout",
          "text": [
            "Total customers 4\n",
            "[1001, 1002, 1003, 1004, 1005, 1006, 1007]\n",
            "First customer: 1001\n",
            "Last customer: 1007\n",
            "Last 3 customers: [1005, 1006, 1007]\n"
          ]
        }
      ]
    },
    {
      "cell_type": "code",
      "source": [
        "sales_data = [100, 250, 175, 300, 225]\n",
        "\n",
        "# 1. What is the total of all sales?\n",
        "\n",
        "print(\"Total Sales\" , sum(sales_data) )\n",
        "\n",
        "# 2. What is the highest sale recorded?\n",
        "print(\"Highest Sale\", max(sales_data) )\n",
        "\n",
        "# 3. What is the average sale value?\n",
        "Average_Sale= sum(sales_data)/ len(sales_data)\n",
        "print(\"Average Sale\",Average_Sale  )"
      ],
      "metadata": {
        "colab": {
          "base_uri": "https://localhost:8080/"
        },
        "id": "XucAFgswuWG1",
        "outputId": "e4cebe00-ff30-4d29-c6bc-9d9b22aa1017"
      },
      "execution_count": 48,
      "outputs": [
        {
          "output_type": "stream",
          "name": "stdout",
          "text": [
            "Total Sales 1050\n",
            "Highest Sale 300\n",
            "Average Sale 210.0\n"
          ]
        }
      ]
    },
    {
      "cell_type": "code",
      "source": [
        "## Parse and Process CSV-like Strings\n",
        "full_record = \"Ahmed,Mohammed, Data Analyst, 3, Data Dept\"\n",
        "\n",
        "## 1. Split the string into separate values using the comma as a separator? (Use a method that turns a string into a list based on a delimiter.)\n",
        "spilt_full_record = full_record.split(\",\")\n",
        "print(spilt_full_record)\n",
        "## 2. After splitting, how do you get just the first name?\n",
        "print(\"the first name is : \" ,spilt_full_record[0] )\n",
        "## 3. Get the number of years of experience as an integer?\n",
        "num_of_experience = spilt_full_record[-2]\n",
        "num_of_experience = int(num_of_experience)\n",
        "print (\"number of years of experience\" ,num_of_experience )\n",
        "## 4. Join the first and last name with a space instead of a comma?\n",
        "print (\"the first and last name :\" ,spilt_full_record[0] , \"\" , spilt_full_record[1])"
      ],
      "metadata": {
        "id": "XLigoAcVsEYn",
        "colab": {
          "base_uri": "https://localhost:8080/"
        },
        "outputId": "c2ecc9c3-1ef0-4126-bacd-92543b269817"
      },
      "execution_count": 54,
      "outputs": [
        {
          "output_type": "stream",
          "name": "stdout",
          "text": [
            "['Ahmed', 'Mohammed', ' Data Analyst', ' 3', ' Data Dept']\n",
            "the first name is :  Ahmed\n",
            "number of years of experience 3\n",
            "the first and last name : Ahmed  Mohammed\n"
          ]
        }
      ]
    },
    {
      "cell_type": "markdown",
      "source": [
        "### Tuples - Immutable Records"
      ],
      "metadata": {
        "id": "m8NY-3xAvmFd"
      }
    },
    {
      "cell_type": "markdown",
      "source": [
        "You are given a tuple representing a database connection configuration, can you extract the individual values (the host, port, and database name) from the tuple and store them in separate variables?"
      ],
      "metadata": {
        "id": "0gJ2zvyVvo-T"
      }
    },
    {
      "cell_type": "code",
      "source": [
        "db_config = (\"localhost\", 5432, \"analytics_db\")\n",
        "the_host = db_config[0]\n",
        "port = db_config[1]\n",
        "database_name = db_config[2]\n",
        "print (f\"the host : {the_host} \\n port : {port} \\n database name : {database_name} \")\n",
        "## separate variables need to hold the host, port and database_name"
      ],
      "metadata": {
        "id": "jvLN8KzBv9Bj",
        "colab": {
          "base_uri": "https://localhost:8080/"
        },
        "outputId": "77e763b5-7a0e-4052-aa18-85fc4759a02c"
      },
      "execution_count": 59,
      "outputs": [
        {
          "output_type": "stream",
          "name": "stdout",
          "text": [
            "the host : localhost \n",
            " port : 5432 \n",
            " database name : analytics_db \n"
          ]
        }
      ]
    },
    {
      "cell_type": "markdown",
      "source": [
        "### Dictionaries - Key-Value Data"
      ],
      "metadata": {
        "id": "jKVyrQPxxqEq"
      }
    },
    {
      "cell_type": "code",
      "source": [
        "customer_sales_record = {\n",
        "    \"id\": 1001,\n",
        "    \"name\": \"Ahmed Mohammed\",\n",
        "    \"email\": \"ahmed@email.com\",\n",
        "    \"purchases\": 15,\n",
        "    \"total_spent\": 1250.75\n",
        "}\n",
        "\n",
        "## 1. get the customer's name from the dictionary\n",
        "print(\"the customer's name : \" , customer_sales_record[\"name\"] )\n",
        "\n",
        "## 2. safely access \"total_spent\" or return 0 if it doesnt exist.\n",
        "customer_sales_record.get(\"total_spent\", 0 )\n",
        "\n",
        "## 3. add a new key \"last_login\" with the value \"2025-08-07\"\n",
        "customer_sales_record[\"last_logi\"]= \"2025-08-07\"\n",
        "print(customer_sales_record)\n",
        "## 4. increase the customers purchase count by 1\n",
        "customer_sales_record[\"purchases\"] +=1\n",
        "print(customer_sales_record[\"purchases\"])"
      ],
      "metadata": {
        "id": "mnU037kTxuiH",
        "colab": {
          "base_uri": "https://localhost:8080/"
        },
        "outputId": "4eb73c94-c695-4d2f-d501-15bdcf85fbd6"
      },
      "execution_count": 66,
      "outputs": [
        {
          "output_type": "stream",
          "name": "stdout",
          "text": [
            "the customer's name :  Ahmed Mohammed\n",
            "{'id': 1001, 'name': 'Ahmed Mohammed', 'email': 'ahmed@email.com', 'purchases': 15, 'total_spent': 1250.75, 'last_logi': '2025-08-07'}\n",
            "16\n"
          ]
        }
      ]
    },
    {
      "cell_type": "code",
      "source": [
        "sales_by_region = {\n",
        "    \"North\": 50000,\n",
        "    \"South\": 45000,\n",
        "    \"East\": 60000,\n",
        "    \"West\": 55000\n",
        "}\n",
        "\n",
        "## 1. calculate the total sales across all regions\n",
        "total_sales = sum(sales_by_region.values())\n",
        "print(\"Total Sales:\", total_sales)\n",
        "\n",
        "## 2. get a list of all the region names (keys)\n",
        "region_names = list(sales_by_region.keys())\n",
        "print(\"Region Names:\", region_names)"
      ],
      "metadata": {
        "id": "6v6taqJ8yV5q",
        "colab": {
          "base_uri": "https://localhost:8080/"
        },
        "outputId": "8898bf64-b790-4c8f-e906-3c05a183b2f5"
      },
      "execution_count": 67,
      "outputs": [
        {
          "output_type": "stream",
          "name": "stdout",
          "text": [
            "Total Sales: 210000\n",
            "Region Names: ['North', 'South', 'East', 'West']\n"
          ]
        }
      ]
    },
    {
      "cell_type": "markdown",
      "source": [
        "#### You are given the string \"Data Analyst\" Write a Python program that counts how many times each character appears in the string and stores the results in a dictionary.\n",
        "\n",
        "Expected Output : `{'D': 1, 'a': 3, 't': 2, ' ': 1, 'A': 1, 'n': 1, 'l': 1, 'y': 1, 's': 1}`\n",
        "\n"
      ],
      "metadata": {
        "id": "yXg3IMNMVFw9"
      }
    },
    {
      "cell_type": "code",
      "source": [
        "my_str = \"Data Analyst\"\n",
        "my_dictionary = { 'D' : 0 , 'a' : 0 , 't' : 0 , ' ' : 0 , 'A' : 0 , 'n' : 0 , 'l' : 0 , 'y' : 0 , 's' : 0 }\n",
        "for char in my_str :\n",
        "  my_dictionary[char] += 1\n",
        "print(my_dictionary)\n"
      ],
      "metadata": {
        "id": "aCgJEa65VG25",
        "colab": {
          "base_uri": "https://localhost:8080/"
        },
        "outputId": "06c7ad41-0479-4f05-c6ad-90a507f2e104"
      },
      "execution_count": 70,
      "outputs": [
        {
          "output_type": "stream",
          "name": "stdout",
          "text": [
            "{'D': 1, 'a': 3, 't': 2, ' ': 1, 'A': 1, 'n': 1, 'l': 1, 'y': 1, 's': 1}\n"
          ]
        }
      ]
    },
    {
      "cell_type": "markdown",
      "source": [
        "#### Write a function `clean_numeric_column(data_list`) that takes a list of mixed data types representing a database column\n",
        "1. Converts valid numbers (int, float, numeric strings) to float\n",
        "2. Replaces invalid values with None\n",
        "3. Returns a tuple: (cleaned_list, count_of_invalid_values)\n",
        "4. Handles edge cases like empty strings, \"N/A\", whitespace\n",
        "\n",
        "** Expected output **\n",
        "```\n",
        "Cleaned: [1.0, 2.5, None, None, 3.7, None, None, 0.0, 0.0]\n",
        "Invalids: 4\n",
        "```\n",
        "\n"
      ],
      "metadata": {
        "id": "aMsmgzAQuqyV"
      }
    },
    {
      "cell_type": "code",
      "source": [
        "data_list = [1, \"2.5\", \"invalid\", \"\", \"  3.7  \", None, \"N/A\", 0, \"0.0\"]\n"
      ],
      "metadata": {
        "id": "7YK_V2LturKJ"
      },
      "execution_count": 74,
      "outputs": []
    },
    {
      "cell_type": "code",
      "source": [
        "def clean_numeric_column(data_list):\n",
        "  cleaned_list = []\n",
        "  count_of_invalid_values = 0\n",
        "  for i in data_list:\n",
        "    if type(i) is int or type(i) is float  :\n",
        "      i = float(i)\n",
        "      cleaned_list.append(i)\n",
        "    elif type(i) is str:\n",
        "      try :\n",
        "        i = float(i)\n",
        "        cleaned_list.append(i)\n",
        "      except ValueError:\n",
        "        cleaned_list.append(\"none\")\n",
        "        count_of_invalid_values += 1\n",
        "  return (cleaned_list, count_of_invalid_values)\n",
        "\n",
        "clean_numeric_column([1.0, 2.5, None, None, 3.7, None, None, 0.0, 0.0])\n"
      ],
      "metadata": {
        "id": "0aUwn6DssbsY",
        "colab": {
          "base_uri": "https://localhost:8080/"
        },
        "outputId": "50aff469-f86e-4da1-fec2-00ca7addb0a2"
      },
      "execution_count": 22,
      "outputs": [
        {
          "output_type": "execute_result",
          "data": {
            "text/plain": [
              "([1.0, 2.5, 3.7, 0.0, 0.0], 0)"
            ]
          },
          "metadata": {},
          "execution_count": 22
        }
      ]
    },
    {
      "cell_type": "code",
      "source": [],
      "metadata": {
        "id": "j1JTpKAg-viy"
      },
      "execution_count": null,
      "outputs": []
    },
    {
      "cell_type": "markdown",
      "source": [
        "#### Write a Python function `clean_column_names(column_list)` that:\n",
        "1. Takes a list of database column names (strings)\n",
        "2. Removes leading/trailing whitespace\n",
        "3. Converts to lowercase\n",
        "4. Replaces spaces and special characters with underscores\n",
        "5. Returns the cleaned list\n",
        "\n",
        "**Example input**: `[\" First Name \", \"Email@Address\", \"Phone-Number\", \" DATE_CREATED \"]`\n",
        "\n",
        "**Expected output:** *[\"first_name\", \"email_address\", \"phone_number\", \"date_created\"]*"
      ],
      "metadata": {
        "id": "BWrHP_Qsl89B"
      }
    },
    {
      "cell_type": "code",
      "source": [
        "column_names = [\" First Name \", \"Email@Address\", \"Phone-Number\", \" DATE_CREATED \"]\n"
      ],
      "metadata": {
        "id": "UNWDyZWQpJVP"
      },
      "execution_count": null,
      "outputs": []
    },
    {
      "cell_type": "code",
      "source": [
        "\n",
        "def clean_column_names(column_list) :\n",
        "  import re\n",
        "  cleaned_list = []\n",
        "  for i in column_list:\n",
        "    i = i.strip()\n",
        "    i = i.lower()\n",
        "    i = re.sub(r'[^a-zA-Z0-9_]', '_', i)\n",
        "    cleaned_list.append(i)\n",
        "  return cleaned_list\n",
        "\n",
        "clean_column_names([\" First Name \", \"Email@Address\", \"Phone-Number\", \" DATE_CREATED \"])"
      ],
      "metadata": {
        "id": "1Yn7A0Wt-tZa",
        "colab": {
          "base_uri": "https://localhost:8080/"
        },
        "outputId": "e88af6db-fb3d-4f53-c7e8-1e5a1d97498a"
      },
      "execution_count": 21,
      "outputs": [
        {
          "output_type": "execute_result",
          "data": {
            "text/plain": [
              "['first_name', 'email_address', 'phone_number', 'date_created']"
            ]
          },
          "metadata": {},
          "execution_count": 21
        }
      ]
    },
    {
      "cell_type": "markdown",
      "source": [
        "Write a Python function `validate_email_list(email_list)` that:\n",
        "1. Takes a list of email strings\n",
        "2. Returns a dictionary with two keys: \"valid\" and \"invalid\"\n",
        "3. Basic email validation: contains exactly one \"@\" and ends with a domain (contains .)\n",
        "4. Uses loops and conditionals to categorize emails\n",
        "\n",
        "**Example Input:** [\"user@domain.com\", \"invalid.email\", \"test@\", \"@domain.com\", \"good@example.org\"]\n",
        "\n",
        "**Expected Output :** {'valid': ['user@domain.com', 'good@example.org'], 'invalid': ['invalid.email', 'test@', '@domain.com']}"
      ],
      "metadata": {
        "id": "7gGLKw6yooWv"
      }
    },
    {
      "cell_type": "code",
      "execution_count": null,
      "metadata": {
        "id": "JI-tkhrJl32D"
      },
      "outputs": [],
      "source": [
        "emails = [\"user@domain.com\", \"invalid.email\", \"test@\", \"@domain.com\", \"good@example.org\"]\n"
      ]
    },
    {
      "cell_type": "code",
      "source": [
        "def validate_email_list(email_list) :\n",
        "  valid_emails = []\n",
        "  invalid_emails = []\n",
        "  for i in email_list :\n",
        "    if \"@\" in i and \".\" in i :\n",
        "      if i.index(\"@\") < i.index(\".\") and i.index(\"@\") != 0 and i.index(\".\") != len(i)-1 :\n",
        "        valid_emails.append(i)\n",
        "      else :\n",
        "        invalid_emails.append(i)\n",
        "    else :\n",
        "      invalid_emails.append(i)\n",
        "  return {\"valid\" : valid_emails , \"invalid\" : invalid_emails}\n",
        "\n",
        "validate_email_list([\"user@domain.com\", \"invalid.email\", \"test@\", \"@domain.com\", \"good@example.org\"])"
      ],
      "metadata": {
        "id": "1Xn8De3x-5KW",
        "colab": {
          "base_uri": "https://localhost:8080/"
        },
        "outputId": "77681359-00f2-4c8b-82b3-6f30420cc513"
      },
      "execution_count": 26,
      "outputs": [
        {
          "output_type": "execute_result",
          "data": {
            "text/plain": [
              "{'valid': ['user@domain.com', 'good@example.org'],\n",
              " 'invalid': ['invalid.email', 'test@', '@domain.com']}"
            ]
          },
          "metadata": {},
          "execution_count": 26
        }
      ]
    },
    {
      "cell_type": "markdown",
      "source": [
        "#### Given these customer ID list from different data sources, Write a function `analyze_customer_overlap(source_a, source_b)` that returns a **dictionary** containing:\n",
        "\n",
        "1. Total unique customers across all sources\n",
        "2. Customers present in all sources (common customers)\n",
        "3. Customers unique to each source\n",
        "\n",
        "\n",
        "**Expected Output**\n",
        "```\n",
        "All unique customers: 7 total\n",
        "Common customers: {1003, 1004, 1005}\n",
        "Unique to A: {1001, 1002}\n",
        "Unique to B: {1006, 1007}\n",
        "```\n",
        "\n",
        "💡: Use set() and operations like &, |, and - to compare customer lists."
      ],
      "metadata": {
        "id": "W2msoaO7nz2t"
      }
    },
    {
      "cell_type": "code",
      "source": [
        "customer_ids_source_a = [1001, 1002, 1003, 1004, 1005]\n",
        "customer_ids_source_b = [1003, 1004, 1005, 1006, 1007]"
      ],
      "metadata": {
        "id": "je9-dn0Tn_gG"
      },
      "execution_count": null,
      "outputs": []
    },
    {
      "cell_type": "code",
      "source": [
        "def analyze_customer_overlap(source_a, source_b):\n",
        "  total_unique_customers = len(set(source_a + source_b))\n",
        "  common_customers = set(source_a) & set(source_b)\n",
        "  unique_to_a = set(source_a) - set(source_b)\n",
        "  unique_to_b = set(source_b) - set(source_a)\n",
        "  return {\n",
        "    \"Total unique customers\": total_unique_customers,\n",
        "    \"Common customers\": common_customers,\n",
        "    \"Unique to A\": unique_to_a,\n",
        "    \"Unique to B\": unique_to_b\n",
        "  }\n",
        "\n",
        "analyze_customer_overlap([1001, 1002, 1003, 1004, 1005], [1003, 1004, 1005, 1006, 1007])"
      ],
      "metadata": {
        "colab": {
          "base_uri": "https://localhost:8080/"
        },
        "id": "lj6Py8XXgOu6",
        "outputId": "508bc9db-9672-4a0d-a942-3ece3f7d19af"
      },
      "execution_count": 28,
      "outputs": [
        {
          "output_type": "execute_result",
          "data": {
            "text/plain": [
              "{'Total unique customers': 7,\n",
              " 'Common customers': {1003, 1004, 1005, 1006, 1007},\n",
              " 'Unique to A': {1001, 1002},\n",
              " 'Unique to B': {1006, 1007}}"
            ]
          },
          "metadata": {},
          "execution_count": 28
        }
      ]
    },
    {
      "cell_type": "code",
      "source": [],
      "metadata": {
        "id": "gZWX8VqTpRg_"
      },
      "execution_count": null,
      "outputs": []
    },
    {
      "cell_type": "markdown",
      "source": [
        "Write a python script to\n",
        "1. count how many files are in each immediate parent directory (the last folder before the file name).\n",
        "2. Print the counts in the format:\n",
        "```\n",
        "raw: 2\n",
        "processed: 1\n",
        "logs: 1\n",
        "```"
      ],
      "metadata": {
        "id": "DXNOUrxVpnvI"
      }
    },
    {
      "cell_type": "code",
      "source": [
        "filepaths = [\n",
        "    \"/data/raw/customers1.csv\",\n",
        "    \"/data/raw/customers2.csv\",\n",
        "    \"/data/raw/customers3.csv\",\n",
        "    \"/data/raw/customers4.csv\",\n",
        "    \"/data/raw/customers5.csv\",\n",
        "    \"/data/processed/orders1.parquet\",\n",
        "    \"/data/processed/orders2.parquet\",\n",
        "    \"/data/processed/orders3.parquet\",\n",
        "    \"/logs/20250101.log\"\n",
        "]\n"
      ],
      "metadata": {
        "id": "gvAXXO75phrr"
      },
      "execution_count": 3,
      "outputs": []
    },
    {
      "cell_type": "code",
      "source": [
        "filepaths = [\n",
        "    \"/data/raw/customers1.csv\",\n",
        "    \"/data/raw/customers2.csv\",\n",
        "    \"/data/raw/customers3.csv\",\n",
        "    \"/data/raw/customers4.csv\",\n",
        "    \"/data/raw/customers5.csv\",\n",
        "    \"/data/processed/orders1.parquet\",\n",
        "    \"/data/processed/orders2.parquet\",\n",
        "    \"/data/processed/orders3.parquet\",\n",
        "    \"/logs/20250101.log\"\n",
        "]\n",
        "\n",
        "counts = {}\n",
        "\n",
        "for path in filepaths:\n",
        "    parent = path.strip(\"/\").split(\"/\")[-2]  # آخر مجلد قبل اسم الملف\n",
        "    counts[parent] = counts.get(parent, 0) + 1\n",
        "\n",
        "for folder, count in counts.items():\n",
        "    print(f\"{folder}: {count}\")"
      ],
      "metadata": {
        "colab": {
          "base_uri": "https://localhost:8080/"
        },
        "id": "pxgymUhUxBWG",
        "outputId": "31b5e1c8-dd38-4259-aef3-8495ecbdf492"
      },
      "execution_count": 7,
      "outputs": [
        {
          "output_type": "stream",
          "name": "stdout",
          "text": [
            "raw: 5\n",
            "processed: 3\n",
            "logs: 1\n"
          ]
        }
      ]
    },
    {
      "cell_type": "code",
      "source": [],
      "metadata": {
        "id": "-qZLsGlGsJmC"
      },
      "execution_count": null,
      "outputs": []
    },
    {
      "cell_type": "markdown",
      "source": [
        "#### You are given a dictionary pipeline_metadata that contains metadata for a data pipeline, including its name, schedule, sources, destinations, transformations, and run history.\n",
        "\n",
        "Write a script that:\n",
        "1. Prints the pipeline name and version using f-strings.\n",
        "2. Prints the schedule.\n",
        "3. Joins and prints the list of sources and destinations as comma-separated strings.\n",
        "4. Extracts and prints only the names of enabled transformations (those set to True) from the nested \"transformations\" dictionary.\n",
        "5. Calculates and prints the total successful records processed from run_history"
      ],
      "metadata": {
        "id": "Rsph0XySnhNz"
      }
    },
    {
      "cell_type": "code",
      "source": [
        "pipeline_metadata = {\n",
        "    \"name\": \"customer_data_pipeline\",\n",
        "    \"version\": \"2.1.0\",\n",
        "    \"schedule\": \"daily\",\n",
        "    \"sources\": [\"mysql_db\", \"api_endpoint\", \"csv_files\"],\n",
        "    \"destinations\": [\"data_warehouse\", \"analytics_db\"],\n",
        "    \"transformations\": {\n",
        "        \"data_cleaning\": True,\n",
        "        \"deduplication\": True,\n",
        "        \"validation\": False,\n",
        "        \"enrichment\": True,\n",
        "        \"aggregation\": False\n",
        "    },\n",
        "    \"run_history\": [\n",
        "        {\"date\": \"2024-01-01\", \"status\": \"success\", \"records_processed\": 10000},\n",
        "        {\"date\": \"2024-01-02\", \"status\": \"failed\", \"records_processed\": 0},\n",
        "        {\"date\": \"2024-01-03\", \"status\": \"success\", \"records_processed\": 12000}\n",
        "    ]\n",
        "}"
      ],
      "metadata": {
        "id": "l-WsytImnrHS"
      },
      "execution_count": 5,
      "outputs": []
    },
    {
      "cell_type": "code",
      "source": [
        "print(f\"Pipeline: {pipeline_metadata['name']}, Version: {pipeline_metadata['version']}\")\n",
        "print(\"Schedule:\", pipeline_metadata[\"schedule\"])\n",
        "\n",
        "print(\"Sources:\", \", \".join(pipeline_metadata[\"sources\"]))\n",
        "print(\"Destinations:\", \", \".join(pipeline_metadata[\"destinations\"]))\n",
        "\n",
        "enabled = [t for t, v in pipeline_metadata[\"transformations\"].items() if v]\n",
        "print(\"Enabled Transformations:\", \", \".join(enabled))\n",
        "\n",
        "total_success = sum(run[\"records_processed\"] for run in pipeline_metadata[\"run_history\"] if run[\"status\"] == \"success\")\n",
        "print(\"Total Successful Records Processed:\", total_success)"
      ],
      "metadata": {
        "id": "SLwb4PeZJg0v",
        "colab": {
          "base_uri": "https://localhost:8080/"
        },
        "outputId": "1ed38a11-cea1-431c-99cc-b9c44f54cd3c"
      },
      "execution_count": 6,
      "outputs": [
        {
          "output_type": "stream",
          "name": "stdout",
          "text": [
            "Pipeline: customer_data_pipeline, Version: 2.1.0\n",
            "Schedule: daily\n",
            "Sources: mysql_db, api_endpoint, csv_files\n",
            "Destinations: data_warehouse, analytics_db\n",
            "Enabled Transformations: data_cleaning, deduplication, enrichment\n",
            "Total Successful Records Processed: 22000\n"
          ]
        }
      ]
    },
    {
      "cell_type": "markdown",
      "source": [
        "#### Write a Python function `generate_date_list(start_date, end_date)` that:\n",
        "1. Accepts two strings in \"YYYY-MM-DD\" format\n",
        "2. Returns a list of all dates from start_date to end_date (inclusive), as strings\n",
        "3. Uses only the standard library (datetime, timedelta)"
      ],
      "metadata": {
        "id": "Wf7-xUCOuAu-"
      }
    },
    {
      "cell_type": "code",
      "source": [
        "from datetime import datetime, timedelta\n",
        "\n",
        "def generate_date_list(start_date, end_date):\n",
        "    start = datetime.strptime(start_date, \"%Y-%m-%d\")\n",
        "    end = datetime.strptime(end_date, \"%Y-%m-%d\")\n",
        "    date_list = []\n",
        "    current_date = start\n",
        "    while current_date <= end:\n",
        "        date_list.append(current_date.strftime(\"%Y-%m-%d\"))\n",
        "        current_date += timedelta(days=1)\n",
        "    return date_list\n",
        "generate_date_list(\"2025-08-10\", \"2025-08-14\")"
      ],
      "metadata": {
        "colab": {
          "base_uri": "https://localhost:8080/"
        },
        "id": "4mQGAgeE44CJ",
        "outputId": "fd4f46db-cdf8-4ff8-c78e-1bf7f53c1fda"
      },
      "execution_count": 36,
      "outputs": [
        {
          "output_type": "execute_result",
          "data": {
            "text/plain": [
              "['2025-08-10', '2025-08-11', '2025-08-12', '2025-08-13', '2025-08-14']"
            ]
          },
          "metadata": {},
          "execution_count": 36
        }
      ]
    },
    {
      "cell_type": "code",
      "source": [
        "# dictionary to store company data\n",
        "\n",
        "\n",
        "company = {\n",
        "    \"employees\": {\n",
        "        \"Ali\": {\n",
        "            \"age\": 30,\n",
        "            \"department\": \"HR\",\n",
        "            \"skills\": [\"communication\", \"recruitment\"]},\n",
        "        \"Mohammed\": {\n",
        "            \"age\": 35,\n",
        "            \"department\": \"IT\",\n",
        "            \"skills\": [\"python\", \"networking\"]}\n",
        "    },\n",
        "    \"departments\": [\"HR\", \"IT\", \"Finance\"],\n",
        "    \"locations\": [\"Amman\", \"Dubai\"]\n",
        "}\n",
        "\n",
        "# how to access the skills for Ali\n",
        "# add communication skill for mohammad\n",
        "# change the department for mohammad to Finance\n"
      ],
      "metadata": {
        "id": "HsL5dC7xIhlK"
      },
      "execution_count": 30,
      "outputs": []
    },
    {
      "cell_type": "code",
      "source": [
        "company[\"employees\"][\"Ali\"][\"skills\"]\n",
        "company[\"employees\"][\"Mohammed\"][\"skills\"].append(\"communication\")\n",
        "company[\"employees\"][\"Mohammed\"][\"department\"] = \"Finance\"\n",
        "print(company)"
      ],
      "metadata": {
        "id": "ztOcDQ17XZnk",
        "colab": {
          "base_uri": "https://localhost:8080/"
        },
        "outputId": "c576926b-f0c7-4044-ed46-bab788232f25"
      },
      "execution_count": 31,
      "outputs": [
        {
          "output_type": "stream",
          "name": "stdout",
          "text": [
            "{'employees': {'Ali': {'age': 30, 'department': 'HR', 'skills': ['communication', 'recruitment']}, 'Mohammed': {'age': 35, 'department': 'Finance', 'skills': ['python', 'networking', 'communication']}}, 'departments': ['HR', 'IT', 'Finance'], 'locations': ['Amman', 'Dubai']}\n"
          ]
        }
      ]
    },
    {
      "cell_type": "code",
      "source": [],
      "metadata": {
        "id": "S4ngcNoxXePB"
      },
      "execution_count": null,
      "outputs": []
    }
  ]
}